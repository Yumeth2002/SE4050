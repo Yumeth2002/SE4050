{
  "nbformat": 4,
  "nbformat_minor": 0,
  "metadata": {
    "colab": {
      "provenance": []
    },
    "kernelspec": {
      "name": "python3",
      "display_name": "Python 3"
    },
    "language_info": {
      "name": "python"
    }
  },
  "cells": [
    {
      "cell_type": "code",
      "execution_count": null,
      "metadata": {
        "colab": {
          "base_uri": "https://localhost:8080/"
        },
        "id": "DX69QlW404vV",
        "outputId": "8a1fe6b7-1213-4061-9501-206c77914ff7"
      },
      "outputs": [
        {
          "output_type": "stream",
          "name": "stdout",
          "text": [
            "W1 = [[0.1826 0.2304]\n",
            " [0.2705 0.3217]]\n",
            "\n",
            "W2 = [[-1.819  -1.769 ]\n",
            " [ 1.1239  1.1739]]\n",
            "\n",
            "Output = [[0.178  0.8771]]\n",
            "Desired output = [[0.01 0.99]]\n",
            "Error = 0.020492276763740064\n"
          ]
        }
      ],
      "source": [
        "import numpy as np\n",
        "np.set_printoptions(precision=4)\n",
        "\n",
        "def initialize():\n",
        "    X = np.array([[0.05, 0.10]])\n",
        "    W1 = np.array([[0.15, 0.20], [0.25, 0.30]])\n",
        "    b1 = 0.35\n",
        "    W2 = np.array([[0.40, 0.45], [0.50, 0.55]])\n",
        "    b2 = 0.60\n",
        "    Y = np.array([[0.01, 0.99]])\n",
        "    learning_rate = 0.5\n",
        "    no_of_iter = 100\n",
        "    return (X, W1, b1, W2, b2, Y, learning_rate, no_of_iter)\n",
        "\n",
        "def forward_pass(X, W1, b1, W2, b2, Y):\n",
        "    Z1 = np.dot(X, W1.T) + b1\n",
        "    A1 = 1 / (1 + np.exp(-Z1))\n",
        "    Z2 = np.dot(A1, W2.T) + b2\n",
        "    A2 = 1 / (1 + np.exp(-Z2))\n",
        "    E = np.sum(0.5 * np.square(Y - A2))\n",
        "    return (A1, A2, E)\n",
        "\n",
        "def back_propagation(X, W1, W2, Y, A1, A2, learning_rate):\n",
        "    dEdA2 = A2 - Y\n",
        "    dA2dZ2 = np.multiply(A2, 1 - A2)\n",
        "    dZ2dW2 = A1\n",
        "    dEdW2 = dEdA2 * dA2dZ2 * dZ2dW2\n",
        "    W2 = W2 - learning_rate * dEdW2.T\n",
        "\n",
        "    dZ2dA1 = W2.T\n",
        "    dA1dZ1 = np.multiply(A1, 1 - A1)\n",
        "    dZ1dW1 = X\n",
        "    dEdW1 = dEdA2 * dA2dZ2 * dZ2dA1 * dA1dZ1 * dZ1dW1\n",
        "    W1 = W1 - learning_rate * dEdW1.T\n",
        "    return (W1, W2)\n",
        "\n",
        "def main():\n",
        "    X, W1, b1, W2, b2, Y, learning_rate, no_of_iter = initialize()\n",
        "    for _ in range(no_of_iter):\n",
        "        A1, A2, E = forward_pass(X, W1, b1, W2, b2, Y)\n",
        "        W1, W2 = back_propagation(X, W1, W2, Y, A1, A2, learning_rate)\n",
        "    print(f'W1 = {W1}\\n\\nW2 = {W2}\\n\\nOutput = {A2}\\nDesired output = {Y}\\nError = {E}')\n",
        "\n",
        "main()\n"
      ]
    },
    {
      "cell_type": "code",
      "source": [
        "import numpy as np\n",
        "np.set_printoptions(precision=4)\n",
        "\n",
        "def initialize():\n",
        "    X = np.array([[0.05, 0.10]])\n",
        "    W1 = np.array([[0.15, 0.20], [0.25, 0.30]])\n",
        "    b1 = 0.35\n",
        "    W2 = np.array([[0.40, 0.45], [0.50, 0.55]])\n",
        "    b2 = 0.60\n",
        "    Y = np.array([[0.01, 0.99]])\n",
        "    learning_rate = 0.5\n",
        "    no_of_iter = 10000\n",
        "    return (X, W1, b1, W2, b2, Y, learning_rate, no_of_iter)\n",
        "\n",
        "def forward_pass(X, W1, b1, W2, b2, Y):\n",
        "    Z1 = np.dot(X, W1.T) + b1\n",
        "    A1 = 1 / (1 + np.exp(-Z1))\n",
        "    Z2 = np.dot(A1, W2.T) + b2\n",
        "    A2 = 1 / (1 + np.exp(-Z2))\n",
        "    E = np.sum(0.5 * np.square(Y - A2))\n",
        "    return (A1, A2, E)\n",
        "\n",
        "def back_propagation(X, W1, W2, Y, A1, A2, learning_rate):\n",
        "    dEdA2 = A2 - Y\n",
        "    dA2dZ2 = np.multiply(A2, 1 - A2)\n",
        "    dZ2dW2 = A1\n",
        "    dEdW2 = dEdA2 * dA2dZ2 * dZ2dW2\n",
        "    W2 = W2 - learning_rate * dEdW2.T\n",
        "\n",
        "    dZ2dA1 = W2.T\n",
        "    dA1dZ1 = np.multiply(A1, 1 - A1)\n",
        "    dZ1dW1 = X\n",
        "    dEdW1 = dEdA2 * dA2dZ2 * dZ2dA1 * dA1dZ1 * dZ1dW1\n",
        "    W1 = W1 - learning_rate * dEdW1.T\n",
        "    return (W1, W2)\n",
        "\n",
        "def main():\n",
        "    X, W1, b1, W2, b2, Y, learning_rate, no_of_iter = initialize()\n",
        "    for _ in range(no_of_iter):\n",
        "        A1, A2, E = forward_pass(X, W1, b1, W2, b2, Y)\n",
        "        W1, W2 = back_propagation(X, W1, W2, Y, A1, A2, learning_rate)\n",
        "    print(f'W1 = {W1}\\n\\nW2 = {W2}\\n\\nOutput = {A2}\\nDesired output = {Y}\\nError = {E}')\n",
        "\n",
        "main()\n"
      ],
      "metadata": {
        "colab": {
          "base_uri": "https://localhost:8080/"
        },
        "id": "uAaPy-au68Du",
        "outputId": "e0f48f01-bd0f-4df1-dad5-c6803ce4579f"
      },
      "execution_count": null,
      "outputs": [
        {
          "output_type": "stream",
          "name": "stdout",
          "text": [
            "W1 = [[0.3061 0.3517]\n",
            " [0.4129 0.4677]]\n",
            "\n",
            "W2 = [[-3.9426 -3.8926]\n",
            " [ 2.8963  2.9463]]\n",
            "\n",
            "Output = [[0.0162 0.9839]]\n",
            "Desired output = [[0.01 0.99]]\n",
            "Error = 3.792325126541209e-05\n"
          ]
        }
      ]
    }
  ]
}